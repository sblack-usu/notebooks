{
 "cells": [
  {
   "cell_type": "markdown",
   "metadata": {},
   "source": [
    "## Retrieve Top 1000 Words"
   ]
  },
  {
   "cell_type": "code",
   "execution_count": null,
   "metadata": {},
   "outputs": [],
   "source": [
    "import requests\n",
    "\n",
    "response = requests.get(\"https://www.ef.edu/english-resources/english-vocabulary/top-1000-words/\")\n",
    "html = response.content"
   ]
  },
  {
   "cell_type": "markdown",
   "metadata": {},
   "source": [
    "## Convert HTML to words array"
   ]
  },
  {
   "cell_type": "code",
   "execution_count": null,
   "metadata": {},
   "outputs": [],
   "source": [
    "from bs4 import BeautifulSoup\n",
    "\n",
    "soup = BeautifulSoup(html)\n",
    "\n",
    "paragraphs = soup.find_all('p', class_=\"\")\n",
    "\n",
    "p_split = str(paragraphs[1]).split(\"<br/>\")\n",
    "words = [p.replace(\"</p>\",'').replace(\"<p>\",'').replace(\"\\r\\n\\t\",'').lower() for p in p_split]"
   ]
  },
  {
   "cell_type": "markdown",
   "metadata": {},
   "source": [
    "## Setup display widgets"
   ]
  },
  {
   "cell_type": "code",
   "execution_count": null,
   "metadata": {},
   "outputs": [],
   "source": [
    "from IPython.display import display\n",
    "from ipywidgets import widgets\n",
    "\n",
    "out = widgets.Output()\n",
    "        \n",
    "text = widgets.Textarea()\n",
    "\n",
    "button = widgets.Button(\n",
    "    description='Validate',\n",
    "    tooltip='Validate my paragraph',\n",
    ")\n",
    "\n",
    "def handle_click(sender):\n",
    "    out.clear_output()\n",
    "    clean = True\n",
    "    for w in text.value.split():\n",
    "        sanitized_w = w.strip().strip(\".\").strip(\",\").lower()\n",
    "        if sanitized_w not in words:\n",
    "            if clean:\n",
    "                with out:\n",
    "                    print(\"The following words are not used enough for you to pass the assignment.\")\n",
    "                clean = False\n",
    "            with out:\n",
    "                print(sanitized_w)\n",
    "    if clean:\n",
    "        with out:\n",
    "            print(\"You did it!\")\n",
    "\n",
    "\n",
    "button.on_click(handle_click)\n",
    "\n",
    "display(out)\n",
    "display(text)\n",
    "display(button)"
   ]
  }
 ],
 "metadata": {
  "kernelspec": {
   "display_name": "Python 3",
   "language": "python",
   "name": "python3"
  },
  "language_info": {
   "codemirror_mode": {
    "name": "ipython",
    "version": 3
   },
   "file_extension": ".py",
   "mimetype": "text/x-python",
   "name": "python",
   "nbconvert_exporter": "python",
   "pygments_lexer": "ipython3",
   "version": "3.7.10"
  }
 },
 "nbformat": 4,
 "nbformat_minor": 4
}